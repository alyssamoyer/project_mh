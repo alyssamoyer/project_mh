{
 "cells": [
  {
   "cell_type": "code",
   "execution_count": 3,
   "metadata": {},
   "outputs": [],
   "source": [
    "# Dependencies and Setup\n",
    "import pandas as pd\n",
    "import matplotlib.pyplot as plt\n",
    "import numpy as np\n",
    "import matplotlib.patches as mpatches\n",
    "%matplotlib notebook\n",
    "\n",
    "\n",
    "#Load tables created from the data cleaning script as datadrames\n",
    "mh_adolescent_trends = pd.read_csv('Output/mh_adolescent_trends.csv')\n",
    "mh_language_trends = pd.read_csv('Output/mh_language_trends.csv')\n",
    "suicide_rate_service = pd.read_csv('Output/suicide_rate_service.csv')\n",
    "suicide_rate_payment = pd.read_csv('Output/suicide_rate_payment.csv')\n",
    "mh_payassist_trends = pd.read_csv('Output/mh_payassist_trends.csv')\n",
    "mh_lgbt_trends = pd.read_csv('Output/mh_lgbt_trends.csv')\n",
    "mh_suicide_2017 = pd.read_csv('Output/mh_suicide_2017.csv')\n",
    "mh_suicide_programs = pd.read_csv('Output/mh_suicide_trends.csv')\n",
    "mh_suicide_death = pd.read_csv('Output/mh_suicide_all.csv')\n",
    "mh_cosubstance_programs = pd.read_csv('Output/mh_substance_trends.csv')\n",
    "mh_veteran_programs = pd.read_csv('Output/mh_verteran_trends.csv')\n",
    "mh_housing_programs = pd.read_csv('Output/mh_housing_trends.csv')\n",
    "mh_education_programs = pd.read_csv('Output/mh_education_trends.csv')"
   ]
  },
  {
   "cell_type": "code",
   "execution_count": 9,
   "metadata": {},
   "outputs": [
    {
     "data": {
      "text/plain": [
       "(35.32298082173418, 30.219443502354245, 9.75518864069806)"
      ]
     },
     "execution_count": 9,
     "metadata": {},
     "output_type": "execute_result"
    }
   ],
   "source": [
    "education_d = mh_education_programs.loc[mh_education_programs['Party'] == 'D' ]['2016'].mean()\n",
    "education_r = mh_education_programs.loc[mh_education_programs['Party'] == 'R' ]['2016'].mean()\n",
    "education_std = mh_education_programs['2016'].std()\n",
    "education_r, education_d, education_std\n"
   ]
  },
  {
   "cell_type": "code",
   "execution_count": 10,
   "metadata": {},
   "outputs": [
    {
     "data": {
      "text/plain": [
       "(19.63040691844036, 25.054894388511325, 8.09903447278578)"
      ]
     },
     "execution_count": 10,
     "metadata": {},
     "output_type": "execute_result"
    }
   ],
   "source": [
    "housing_d = mh_housing_programs.loc[mh_housing_programs['Party'] == 'D' ]['2016'].mean()\n",
    "housing_r = mh_housing_programs.loc[mh_housing_programs['Party'] == 'R' ]['2016'].mean()\n",
    "housing_std = mh_housing_programs['2016'].std()\n",
    "housing_r, housing_d, housing_std"
   ]
  },
  {
   "cell_type": "code",
   "execution_count": 13,
   "metadata": {},
   "outputs": [
    {
     "data": {
      "text/plain": [
       "(12.36012593376667, 12.64901892453695, 5.183040286414821)"
      ]
     },
     "execution_count": 13,
     "metadata": {},
     "output_type": "execute_result"
    }
   ],
   "source": [
    "veteran_d = mh_veteran_programs.loc[mh_veteran_programs['Party'] == 'D' ]['2016'].mean()\n",
    "veteran_r = mh_veteran_programs.loc[mh_veteran_programs['Party'] == 'R' ]['2016'].mean()\n",
    "veteran_std = mh_veteran_programs['2016'].std()\n",
    "veteran_r, veteran_d, veteran_std"
   ]
  },
  {
   "cell_type": "code",
   "execution_count": 14,
   "metadata": {},
   "outputs": [
    {
     "data": {
      "text/plain": [
       "(57.27970563858677, 54.75696567220381, 12.470227719121311)"
      ]
     },
     "execution_count": 14,
     "metadata": {},
     "output_type": "execute_result"
    }
   ],
   "source": [
    "substance_d = mh_cosubstance_programs.loc[mh_cosubstance_programs['Party'] == 'D' ]['2016'].mean()\n",
    "substance_r = mh_cosubstance_programs.loc[mh_cosubstance_programs['Party'] == 'R' ]['2016'].mean()\n",
    "substance_std = mh_cosubstance_programs['2016'].std()\n",
    "\n",
    "substance_r, substance_d, substance_std"
   ]
  },
  {
   "cell_type": "code",
   "execution_count": 16,
   "metadata": {},
   "outputs": [
    {
     "data": {
      "text/plain": [
       "(59.352872735417165, 52.45474373990094, 11.415993082571797)"
      ]
     },
     "execution_count": 16,
     "metadata": {},
     "output_type": "execute_result"
    }
   ],
   "source": [
    "suicide_d = mh_suicide_programs.loc[mh_suicide_programs['Party'] == 'D' ]['2016'].mean()\n",
    "suicide_r = mh_suicide_programs.loc[mh_suicide_programs['Party'] == 'R' ]['2016'].mean()\n",
    "suicide_std = mh_suicide_programs['2016'].std()\n",
    "\n",
    "suicide_r, suicide_d, suicide_std"
   ]
  },
  {
   "cell_type": "code",
   "execution_count": 18,
   "metadata": {},
   "outputs": [
    {
     "data": {
      "text/plain": [
       "(51.88293304075954, 52.45829762931168, 10.774321747765844)"
      ]
     },
     "execution_count": 18,
     "metadata": {},
     "output_type": "execute_result"
    }
   ],
   "source": [
    "payassist_d = mh_payassist_trends.loc[mh_payassist_trends['Party'] == 'D' ]['2016'].mean()\n",
    "payassist_r = mh_payassist_trends.loc[mh_payassist_trends['Party'] == 'R' ]['2016'].mean()\n",
    "payassist_std = mh_payassist_trends['2016'].std()\n",
    "\n",
    "payassist_r, payassist_d, payassist_std"
   ]
  },
  {
   "cell_type": "code",
   "execution_count": 12,
   "metadata": {},
   "outputs": [
    {
     "data": {
      "text/plain": [
       "(10.948119477498604, 15.15194523497461, 5.103988722437949)"
      ]
     },
     "execution_count": 12,
     "metadata": {},
     "output_type": "execute_result"
    }
   ],
   "source": [
    "lgbt_d = mh_lgbt_trends.loc[mh_lgbt_trends['Party'] == 'D' ]['2016'].mean()\n",
    "lgbt_r = mh_lgbt_trends.loc[mh_lgbt_trends['Party'] == 'R' ]['2016'].mean()\n",
    "lgbt_std = mh_lgbt_trends['2016'].std()\n",
    "\n",
    "lgbt_r, lgbt_d, lgbt_std"
   ]
  },
  {
   "cell_type": "code",
   "execution_count": null,
   "metadata": {},
   "outputs": [],
   "source": []
  }
 ],
 "metadata": {
  "kernelspec": {
   "display_name": "Python 3",
   "language": "python",
   "name": "python3"
  },
  "language_info": {
   "codemirror_mode": {
    "name": "ipython",
    "version": 3
   },
   "file_extension": ".py",
   "mimetype": "text/x-python",
   "name": "python",
   "nbconvert_exporter": "python",
   "pygments_lexer": "ipython3",
   "version": "3.7.4"
  }
 },
 "nbformat": 4,
 "nbformat_minor": 2
}
